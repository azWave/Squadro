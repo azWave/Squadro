{
 "cells": [
  {
   "cell_type": "code",
   "execution_count": 1,
   "metadata": {},
   "outputs": [],
   "source": [
    "from classes.game import SquadroGame\n",
    "import itertools as it "
   ]
  },
  {
   "cell_type": "code",
   "execution_count": 2,
   "metadata": {},
   "outputs": [],
   "source": [
    "g = SquadroGame({})"
   ]
  },
  {
   "cell_type": "code",
   "execution_count": 4,
   "metadata": {},
   "outputs": [
    {
     "name": "stdout",
     "output_type": "stream",
     "text": [
      "\t1   3   2   3   1\n",
      "x | . | \u001b[33m↓\u001b[0m | \u001b[33m↓\u001b[0m | \u001b[33m↓\u001b[0m | \u001b[33m↓\u001b[0m | \u001b[33m↓\u001b[0m | . | x\n",
      "-----------------------------\n",
      "3 | \u001b[31m→\u001b[0m | . | . | . | . | . | . | 1\n",
      "-----------------------------\n",
      "1 | \u001b[31m→\u001b[0m | . | . | . | . | . | . | 3\n",
      "-----------------------------\n",
      "2 | \u001b[31m→\u001b[0m | . | . | . | . | . | . | 2\n",
      "-----------------------------\n",
      "1 | \u001b[31m→\u001b[0m | . | . | . | . | . | . | 3\n",
      "-----------------------------\n",
      "3 | \u001b[31m→\u001b[0m | . | . | . | . | . | . | 1\n",
      "-----------------------------\n",
      "x | . | . | . | . | . | . | . | x\n",
      "\t3   1   2   1   3\n",
      "\n"
     ]
    }
   ],
   "source": [
    "p1 = g.board.pieces_p1[4]\n",
    "p2 = g.board.pieces_p2[2]\n",
    "print(g.board)"
   ]
  },
  {
   "cell_type": "code",
   "execution_count": 31,
   "metadata": {},
   "outputs": [
    {
     "data": {
      "text/plain": [
       "8"
      ]
     },
     "execution_count": 31,
     "metadata": {},
     "output_type": "execute_result"
    }
   ],
   "source": [
    "test = [i.actionToOut() for i in g.board.pieces_p1]\n",
    "30 - min([sum(i) for i in it.combinations(test,4,)])"
   ]
  },
  {
   "cell_type": "code",
   "execution_count": 30,
   "metadata": {},
   "outputs": [
    {
     "name": "stdout",
     "output_type": "stream",
     "text": [
      "\t1   3   2   3   1\n",
      "x | . | \u001b[33m↓\u001b[0m | \u001b[33m↓\u001b[0m | \u001b[33m↓\u001b[0m | \u001b[33m↓\u001b[0m | \u001b[33m↓\u001b[0m | . | x\n",
      "-----------------------------\n",
      "3 | \u001b[31m→\u001b[0m | . | . | . | . | . | . | 1\n",
      "-----------------------------\n",
      "1 | \u001b[31m→\u001b[0m | . | . | . | . | . | . | 3\n",
      "-----------------------------\n",
      "2 | \u001b[31m→\u001b[0m | . | . | . | . | . | . | 2\n",
      "-----------------------------\n",
      "1 | \u001b[31m→\u001b[0m | . | . | . | . | . | . | 3\n",
      "-----------------------------\n",
      "3 | \u001b[31m←\u001b[0m | . | . | . | . | . | . | 1\n",
      "-----------------------------\n",
      "x | . | . | . | . | . | . | . | x\n",
      "\t3   1   2   1   3\n",
      "\n"
     ]
    }
   ],
   "source": [
    "p1.move(g.board)\n",
    "g.board.update_grid()\n",
    "print(g.board)"
   ]
  },
  {
   "cell_type": "code",
   "execution_count": null,
   "metadata": {},
   "outputs": [],
   "source": []
  }
 ],
 "metadata": {
  "kernelspec": {
   "display_name": ".venv-deep",
   "language": "python",
   "name": "python3"
  },
  "language_info": {
   "codemirror_mode": {
    "name": "ipython",
    "version": 3
   },
   "file_extension": ".py",
   "mimetype": "text/x-python",
   "name": "python",
   "nbconvert_exporter": "python",
   "pygments_lexer": "ipython3",
   "version": "3.10.0"
  }
 },
 "nbformat": 4,
 "nbformat_minor": 2
}
